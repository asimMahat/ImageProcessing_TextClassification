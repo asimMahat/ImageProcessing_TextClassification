{
 "cells": [
  {
   "cell_type": "markdown",
   "id": "6b419b5c-4863-470a-bd3d-d5cb90b46a90",
   "metadata": {},
   "source": [
    "## Importing pandas module\n"
   ]
  },
  {
   "cell_type": "code",
   "execution_count": 1,
   "id": "4a59aff7-9030-458f-a474-f655647bd74b",
   "metadata": {},
   "outputs": [],
   "source": [
    "import pandas as pd"
   ]
  },
  {
   "cell_type": "markdown",
   "id": "b9759f76-d920-4172-9dec-2e7f5ea32aaa",
   "metadata": {},
   "source": [
    "## Reading csv file into pandas dataframe"
   ]
  },
  {
   "cell_type": "code",
   "execution_count": 2,
   "id": "73632343-5a88-45c8-a29b-3afa5894c991",
   "metadata": {},
   "outputs": [
    {
     "name": "stdout",
     "output_type": "stream",
     "text": [
      "      label                                               text\n",
      "0  85389000                 pdscpm gb part of panel of chiller\n",
      "1  85389000  nm  p economical extended rot hand parts for c...\n",
      "2  85389000  lv ma pd trip unit for cvs parts of circuit br...\n",
      "3  85389000  lv na p trip unit for cvs switch parts of circ...\n",
      "4  85389000  lv tmd pd trip unit for cvs parts of circuitbr...\n",
      "5  85389000                              sleeve joint ip kseya\n",
      "6  85389000                         a copper feeder lnpe kscpg\n",
      "7  85389000                         a copper feeder lnpe kscpg\n",
      "8  85389000  module tm analog outputs analog output expansi...\n",
      "9  85389000  module tm io relays digital io expansion modul...\n"
     ]
    }
   ],
   "source": [
    "df = pd.read_csv('train_set.csv', encoding = 'unicode_escape')\n",
    "print(df.head(10))"
   ]
  },
  {
   "cell_type": "markdown",
   "id": "d3d41cc2-85c1-49f5-bb43-4af470fbacc6",
   "metadata": {},
   "source": [
    "# Null Values\n",
    "## Checking for null values if present"
   ]
  },
  {
   "cell_type": "code",
   "execution_count": 3,
   "id": "bbd500f3-9d8a-4e63-bcfe-002689cd69ab",
   "metadata": {},
   "outputs": [
    {
     "data": {
      "text/plain": [
       "0        False\n",
       "1        False\n",
       "2        False\n",
       "3        False\n",
       "4        False\n",
       "         ...  \n",
       "23610    False\n",
       "23611    False\n",
       "23612    False\n",
       "23613    False\n",
       "23614    False\n",
       "Length: 23615, dtype: bool"
      ]
     },
     "execution_count": 3,
     "metadata": {},
     "output_type": "execute_result"
    }
   ],
   "source": [
    "# Checking for the null values if present \n",
    "null_values = df.isnull().any(axis=1)\n",
    "null_values"
   ]
  },
  {
   "cell_type": "code",
   "execution_count": 4,
   "id": "b8e96e5d-298a-43e9-9c47-517a6085e5f5",
   "metadata": {},
   "outputs": [
    {
     "data": {
      "text/html": [
       "<div>\n",
       "<style scoped>\n",
       "    .dataframe tbody tr th:only-of-type {\n",
       "        vertical-align: middle;\n",
       "    }\n",
       "\n",
       "    .dataframe tbody tr th {\n",
       "        vertical-align: top;\n",
       "    }\n",
       "\n",
       "    .dataframe thead th {\n",
       "        text-align: right;\n",
       "    }\n",
       "</style>\n",
       "<table border=\"1\" class=\"dataframe\">\n",
       "  <thead>\n",
       "    <tr style=\"text-align: right;\">\n",
       "      <th></th>\n",
       "      <th>label</th>\n",
       "      <th>text</th>\n",
       "    </tr>\n",
       "  </thead>\n",
       "  <tbody>\n",
       "  </tbody>\n",
       "</table>\n",
       "</div>"
      ],
      "text/plain": [
       "Empty DataFrame\n",
       "Columns: [label, text]\n",
       "Index: []"
      ]
     },
     "execution_count": 4,
     "metadata": {},
     "output_type": "execute_result"
    }
   ],
   "source": [
    "df[null_values]"
   ]
  },
  {
   "cell_type": "markdown",
   "id": "5092549e-2f3e-4dfe-bb28-6b5a351a1686",
   "metadata": {},
   "source": [
    "#### The above results show that there is no presence of null values"
   ]
  },
  {
   "cell_type": "markdown",
   "id": "b381151b-ee6a-4ccd-bd30-df5caa424098",
   "metadata": {},
   "source": [
    "## Counting total number of words and data points"
   ]
  },
  {
   "cell_type": "code",
   "execution_count": 5,
   "id": "12d49146-0c85-45c7-9cc5-31b3cc958c21",
   "metadata": {},
   "outputs": [
    {
     "name": "stdout",
     "output_type": "stream",
     "text": [
      "Total number of words in data :  226029\n",
      "Total number of rows  in data :  23615\n"
     ]
    }
   ],
   "source": [
    "print(\"Total number of words in data : \", df['text'].apply(lambda x: len(x.split(' '))).sum())\n",
    "print(\"Total number of rows  in data : \" , len(df.index) )"
   ]
  },
  {
   "cell_type": "markdown",
   "id": "0dcc8ec7-5835-4d2d-84d5-032855e33bd9",
   "metadata": {},
   "source": [
    "# Labels"
   ]
  },
  {
   "cell_type": "code",
   "execution_count": 6,
   "id": "4286bd56-6d4b-4937-983d-6c044971fe89",
   "metadata": {},
   "outputs": [
    {
     "data": {
      "text/plain": [
       "array([85389000, 85177090, 85369090, 39269099, 73181500, 85366990,\n",
       "       85364900, 85238090, 87089900, 33041000, 87082900, 84713010])"
      ]
     },
     "execution_count": 6,
     "metadata": {},
     "output_type": "execute_result"
    }
   ],
   "source": [
    "df.label.unique() #finding the labels"
   ]
  },
  {
   "cell_type": "code",
   "execution_count": 7,
   "id": "0aa72db1-2651-4f8c-a41a-fdaa3a49b64d",
   "metadata": {},
   "outputs": [],
   "source": [
    "labels = ['85389000', '85177090','85369090','39269099','73181500','85366990',\n",
    "          '85364900', '85238090', '87089900', '33041000', '87082900', '84713010']"
   ]
  },
  {
   "cell_type": "markdown",
   "id": "3873d1a0-1ce0-4a34-84f0-a3c641c0e93c",
   "metadata": {},
   "source": [
    "# Data Visualization\n",
    "#### Visualization is done with Matplotlib "
   ]
  },
  {
   "cell_type": "code",
   "execution_count": 8,
   "id": "b5fc080c-9b9e-447a-9a53-fa0abfbb0f7a",
   "metadata": {},
   "outputs": [
    {
     "data": {
      "text/plain": [
       "85389000    2936\n",
       "85177090    2581\n",
       "85369090    2438\n",
       "39269099    2189\n",
       "73181500    2033\n",
       "85366990    1944\n",
       "85238090    1720\n",
       "85364900    1714\n",
       "87089900    1673\n",
       "33041000    1605\n",
       "87082900    1451\n",
       "84713010    1331\n",
       "Name: label, dtype: int64"
      ]
     },
     "execution_count": 8,
     "metadata": {},
     "output_type": "execute_result"
    },
    {
     "data": {
      "image/png": "[encoded data removed]",
      "text/plain": [
       "<Figure size 720x288 with 1 Axes>"
      ]
     },
     "metadata": {
      "needs_background": "light"
     },
     "output_type": "display_data"
    }
   ],
   "source": [
    "import matplotlib.pyplot as plt \n",
    "\n",
    "plt.figure(figsize=(10,4))\n",
    "plt.xlabel(\"Labels\")\n",
    "plt.ylabel(\"Count\")\n",
    "\n",
    "df.label.value_counts().plot(kind='bar');\n",
    "df['label'].value_counts() # Checking the value counts for each labels"
   ]
  },
  {
   "cell_type": "markdown",
   "id": "3202a9da-53db-478e-93ba-4719a341ef06",
   "metadata": {},
   "source": [
    "# Working with duplicated rows\n",
    "#### Duplicated rows has no significance so we remove them "
   ]
  },
  {
   "cell_type": "code",
   "execution_count": 9,
   "id": "05d26606-009b-4c67-9061-bb6270155ad7",
   "metadata": {},
   "outputs": [],
   "source": [
    "# Checking for duplicated rows\n",
    "duplicateRows = df[df.duplicated()]"
   ]
  },
  {
   "cell_type": "code",
   "execution_count": 10,
   "id": "ac52c50e-aa42-4b18-bf24-f750212ac38a",
   "metadata": {},
   "outputs": [
    {
     "data": {
      "text/plain": [
       "12271"
      ]
     },
     "execution_count": 10,
     "metadata": {},
     "output_type": "execute_result"
    }
   ],
   "source": [
    "len(duplicateRows) # calculating the total number of duplicated rows"
   ]
  },
  {
   "cell_type": "markdown",
   "id": "7d2486e1-3b01-41bf-9493-5639618cee63",
   "metadata": {},
   "source": [
    "## Removing duplicated rows"
   ]
  },
  {
   "cell_type": "code",
   "execution_count": 11,
   "id": "fe3d1508-1db0-4f37-8aa7-beb221034233",
   "metadata": {},
   "outputs": [
    {
     "name": "stdout",
     "output_type": "stream",
     "text": [
      "Total number of words in data after removing duplicated rows :  112053\n"
     ]
    }
   ],
   "source": [
    "# Since there are multiple rows duplicated , we must remove it\n",
    "new_df = df.drop_duplicates()\n",
    "# len(new_df) # total number of data points after removing duplicates\n",
    "print(\"Total number of words in data after removing duplicated rows : \", new_df['text'].apply(lambda x: len(x.split(' '))).sum())"
   ]
  },
  {
   "cell_type": "code",
   "execution_count": 12,
   "id": "efe3f4e0-759f-4c90-ab02-2ef6870b6d1e",
   "metadata": {},
   "outputs": [
    {
     "name": "stdout",
     "output_type": "stream",
     "text": [
      "Total number of rows in data :  11344\n"
     ]
    }
   ],
   "source": [
    "print(\"Total number of rows in data : \" , len(new_df.index) )"
   ]
  },
  {
   "cell_type": "markdown",
   "id": "f017ed76-d042-49d7-b743-35838d4a8e3b",
   "metadata": {},
   "source": [
    "## Looking at the distribution of data after removing duplicated rows"
   ]
  },
  {
   "cell_type": "code",
   "execution_count": 13,
   "id": "00bcc291-b963-4123-9d16-32517e13ddf8",
   "metadata": {},
   "outputs": [
    {
     "name": "stdout",
     "output_type": "stream",
     "text": [
      "Total word count :  112053\n"
     ]
    },
    {
     "data": {
      "text/plain": [
       "39269099    1621\n",
       "85177090    1610\n",
       "85389000    1550\n",
       "73181500    1271\n",
       "85369090    1262\n",
       "85366990    1032\n",
       "87089900     794\n",
       "84713010     562\n",
       "33041000     547\n",
       "87082900     547\n",
       "85364900     455\n",
       "85238090      93\n",
       "Name: label, dtype: int64"
      ]
     },
     "execution_count": 13,
     "metadata": {},
     "output_type": "execute_result"
    },
    {
     "data": {
      "image/png": "[encoded data removed]",
      "text/plain": [
       "<Figure size 720x288 with 1 Axes>"
      ]
     },
     "metadata": {
      "needs_background": "light"
     },
     "output_type": "display_data"
    }
   ],
   "source": [
    "import matplotlib.pyplot as plt\n",
    "\n",
    "plt.figure(figsize=(10,4))\n",
    "plt.xlabel(\"Labels\")\n",
    "plt.ylabel(\"Count\")\n",
    "\n",
    "new_df.label.value_counts().plot(kind='bar');\n",
    "# Now counting the labels value after removing duplicated rows\n",
    "print(\"Total word count : \", new_df['text'].apply(lambda x: len(x.split(' '))).sum())\n",
    "new_df['label'].value_counts()"
   ]
  },
  {
   "cell_type": "markdown",
   "id": "86c6f3b4-365b-46ac-a461-f6c04796ec9b",
   "metadata": {},
   "source": [
    "# Looking at random data samples "
   ]
  },
  {
   "cell_type": "code",
   "execution_count": 14,
   "id": "a08eb293-d273-4586-8e58-48f40b819a06",
   "metadata": {},
   "outputs": [
    {
     "name": "stdout",
     "output_type": "stream",
     "text": [
      "small controller panel for process controller based touch screen display hmiscub\n",
      "label: 85389000\n",
      "slteaa simatic s smart line module\n",
      "label: 85389000\n"
     ]
    }
   ],
   "source": [
    "def print_sample_data(index):\n",
    "    sample_data = new_df[new_df.index == index][['text', 'label']].values[0]\n",
    "    if len(sample_data) > 0:\n",
    "        print(sample_data[0])\n",
    "        print('label:', sample_data[1])\n",
    "\n",
    "print_sample_data(10)\n",
    "print_sample_data(2000)"
   ]
  },
  {
   "cell_type": "code",
   "execution_count": 15,
   "id": "552db0e0-59bf-4eab-a20d-8c512021120d",
   "metadata": {},
   "outputs": [
    {
     "name": "stdout",
     "output_type": "stream",
     "text": [
      "Total number of words in data  :  112053\n"
     ]
    }
   ],
   "source": [
    "print(\"Total number of words in data  : \", new_df['text'].apply(lambda x: len(x.split(' '))).sum())"
   ]
  },
  {
   "cell_type": "markdown",
   "id": "5edcaa13-5eaf-4100-af73-1bc1f492aea1",
   "metadata": {},
   "source": [
    "# Data preprocessing \n",
    "### Removing stopwords, unwanted spacing , uppercase letter ,special symbols if any present"
   ]
  },
  {
   "cell_type": "code",
   "execution_count": 16,
   "id": "b9f989a7-5ffd-442f-be71-3dba774c15bf",
   "metadata": {},
   "outputs": [
    {
     "name": "stderr",
     "output_type": "stream",
     "text": [
      "[nltk_data] Downloading package stopwords to\n",
      "[nltk_data]     /home/asimmahat/nltk_data...\n",
      "[nltk_data]   Package stopwords is already up-to-date!\n"
     ]
    },
    {
     "name": "stdout",
     "output_type": "stream",
     "text": [
      "Total number of words in data before preprocessing : 112053\n",
      "Total number of words in data after preprocessing : 86956\n"
     ]
    },
    {
     "name": "stderr",
     "output_type": "stream",
     "text": [
      "/tmp/ipykernel_47883/741654066.py:19: SettingWithCopyWarning: \n",
      "A value is trying to be set on a copy of a slice from a DataFrame.\n",
      "Try using .loc[row_indexer,col_indexer] = value instead\n",
      "\n",
      "See the caveats in the documentation: https://pandas.pydata.org/pandas-docs/stable/user_guide/indexing.html#returning-a-view-versus-a-copy\n",
      "  new_df['text'] = new_df['text'].apply(clean_text)\n"
     ]
    }
   ],
   "source": [
    "import nltk # nltk is an open source Python library for Natural Language Processing\n",
    "import re  # The re module provides a set of powerful regular expression facilities\n",
    "nltk.download(\"stopwords\")\n",
    "from nltk.corpus import stopwords\n",
    "\n",
    "REPLACE_BY_SPACE_RE = re.compile('[/(){}\\[\\]\\|@,;]')\n",
    "BAD_SYMBOLS_RE = re.compile('[^0-9a-z #+_]')\n",
    "STOPWORDS = set(stopwords.words('english'))\n",
    "                \n",
    "def clean_text(text):\n",
    "    text = text.lower() # lowercase text\n",
    "    text = REPLACE_BY_SPACE_RE.sub(' ', text) # replace REPLACE_BY_SPACE_RE symbols by space in text\n",
    "    text = BAD_SYMBOLS_RE.sub('', text) # delete symbols which are in BAD_SYMBOLS_RE from text\n",
    "    text = ' '.join(word for word in text.split() if word not in STOPWORDS) # delete stopwords from text\n",
    "    return text\n",
    "  \n",
    "print(\"Total number of words in data before preprocessing :\", new_df['text'].apply(lambda x: len(x.split(' '))).sum())\n",
    "\n",
    "new_df['text'] = new_df['text'].apply(clean_text)\n",
    "\n",
    "print (\"Total number of words in data after preprocessing :\", new_df['text'].apply(lambda x: len(x.split(' '))).sum())"
   ]
  },
  {
   "cell_type": "markdown",
   "id": "67f14bb0-adf9-48b2-ae2e-0cccf2f7ecdb",
   "metadata": {},
   "source": [
    "# Spliting our data into training and testing set"
   ]
  },
  {
   "cell_type": "code",
   "execution_count": 17,
   "id": "a4c7e826-f44f-4ea8-a939-81ed18078e28",
   "metadata": {
    "jp-MarkdownHeadingCollapsed": true,
    "tags": []
   },
   "outputs": [],
   "source": [
    "from sklearn.model_selection import train_test_split\n",
    "X = new_df.text\n",
    "y = new_df.label\n",
    "X_train, X_test, y_train, y_test = train_test_split(X, y, test_size=0.2, random_state = 42)"
   ]
  },
  {
   "cell_type": "markdown",
   "id": "9eb11f97-fea2-4418-86cf-b551cf7e265c",
   "metadata": {},
   "source": [
    "# Exploring CountVectorizer and TFID vectorizer\n"
   ]
  },
  {
   "cell_type": "code",
   "execution_count": 18,
   "id": "177dab26-df05-4d1d-a7e8-36c2929fce3e",
   "metadata": {},
   "outputs": [
    {
     "name": "stdout",
     "output_type": "stream",
     "text": [
      "(9075, 4325)\n"
     ]
    }
   ],
   "source": [
    "from sklearn.feature_extraction.text import CountVectorizer, TfidfVectorizer\n",
    "count_vec = CountVectorizer(min_df = 2) # any word which comes < 2 is neglected\n",
    "X_count_vec = count_vec.fit_transform(X_train)\n",
    "print(X_count_vec.shape)"
   ]
  },
  {
   "cell_type": "code",
   "execution_count": 19,
   "id": "191e9932-82f9-411d-9239-2459d2922a95",
   "metadata": {},
   "outputs": [
    {
     "name": "stdout",
     "output_type": "stream",
     "text": [
      "(9075, 4325)\n"
     ]
    }
   ],
   "source": [
    "tfidf_vec = TfidfVectorizer(min_df = 2)\n",
    "X_tfidf_vec = tfidf_vec.fit_transform(X_train)\n",
    "print(X_tfidf_vec.shape)"
   ]
  },
  {
   "cell_type": "markdown",
   "id": "0043de65-39d8-4325-9b59-0e244f44fbc9",
   "metadata": {},
   "source": [
    "### The input text is changed into n*m matrix of size (9075,4325) which is then passed\n",
    "### to the model for training"
   ]
  },
  {
   "cell_type": "markdown",
   "id": "df474d6f-46d3-440a-a6e5-9ca42a5567c1",
   "metadata": {},
   "source": [
    "# Using Multinominal Naive Bayes Classifier"
   ]
  },
  {
   "cell_type": "code",
   "execution_count": 20,
   "id": "4d584efa-6893-444e-9760-b23a2a840455",
   "metadata": {},
   "outputs": [
    {
     "name": "stdout",
     "output_type": "stream",
     "text": [
      "The accuracy of Naive Bayes model is :  0.7977082415160864\n",
      "-----------------------------------------------------------------------------\n",
      "Confusion Matrix\n",
      "[[ 96   1   0   0   0   0   0   0   0   0   0   0]\n",
      " [  0 275   9   1  17   0   0   2   6  11   3   5]\n",
      " [  0  21 212   1   7   0   0   0   2   2   0   2]\n",
      " [  0   6   0 107   2   0   0   0   0   0   0   0]\n",
      " [  0   5   1   0 309   0   0   0   1   3   0   0]\n",
      " [  0   8   0   0   0   6   0   0   1  14   0   0]\n",
      " [  0   1   1   0   1   0  51   0  24   6   1   0]\n",
      " [  0   9   1   0   1   0   0 131  41  12   0   0]\n",
      " [  0   9   4   0   2   0   4  33 196  16   0   1]\n",
      " [  0  21   4   0   7   0   1   9  18 265   0   0]\n",
      " [  0  14   1   0   0   0   0   0   0   2  56  28]\n",
      " [  0  28  17   0   4   0   0   0   1   1   5 106]]\n",
      "------------------------------------------------------------------------------\n",
      "Classification report\n",
      "              precision    recall  f1-score   support\n",
      "\n",
      "    85389000       1.00      0.99      0.99        97\n",
      "    85177090       0.69      0.84      0.76       329\n",
      "    85369090       0.85      0.86      0.85       247\n",
      "    39269099       0.98      0.93      0.96       115\n",
      "    73181500       0.88      0.97      0.92       319\n",
      "    85366990       1.00      0.21      0.34        29\n",
      "    85364900       0.91      0.60      0.72        85\n",
      "    85238090       0.75      0.67      0.71       195\n",
      "    87089900       0.68      0.74      0.71       265\n",
      "    33041000       0.80      0.82      0.81       325\n",
      "    87082900       0.86      0.55      0.67       101\n",
      "    84713010       0.75      0.65      0.70       162\n",
      "\n",
      "    accuracy                           0.80      2269\n",
      "   macro avg       0.85      0.74      0.76      2269\n",
      "weighted avg       0.81      0.80      0.79      2269\n",
      "\n"
     ]
    }
   ],
   "source": [
    "# Using multinominal naive bayes for text classification\n",
    "\n",
    "from sklearn.feature_extraction.text import TfidfVectorizer\n",
    "from sklearn.naive_bayes import MultinomialNB\n",
    "from sklearn.pipeline import Pipeline\n",
    "from sklearn.metrics import accuracy_score, confusion_matrix, classification_report\n",
    "\n",
    "model_naive_bayes = Pipeline([('vect',TfidfVectorizer()),\n",
    "                                ('clf', MultinomialNB()) ])\n",
    "                  \n",
    "\n",
    "model_naive_bayes.fit(X_train, y_train)\n",
    "y_pred = model_naive_bayes.predict(X_test)\n",
    "\n",
    "print('The accuracy of Naive Bayes model is :  %s' % accuracy_score(y_pred, y_test))\n",
    "print (\"-----------------------------------------------------------------------------\")\n",
    "\n",
    "print(\"Confusion Matrix\")\n",
    "print(confusion_matrix(y_test,y_pred))\n",
    "\n",
    "print (\"------------------------------------------------------------------------------\")\n",
    "print(\"Classification report\")\n",
    "print(classification_report(y_test, y_pred,target_names=labels))"
   ]
  },
  {
   "cell_type": "markdown",
   "id": "822aceb1-0058-4325-9d1d-b026a7283d10",
   "metadata": {},
   "source": [
    "# Using Random Forest Classifier"
   ]
  },
  {
   "cell_type": "code",
   "execution_count": 21,
   "id": "d56e17a5-8a65-4846-a0d8-98e2611682af",
   "metadata": {},
   "outputs": [
    {
     "name": "stdout",
     "output_type": "stream",
     "text": [
      "The accuracy of Random Forest Classifier model is :  0.8457470251211988\n",
      "------------------------------------------------------------------------------------\n",
      "Confusion Matrix\n",
      "[[ 97   0   0   0   0   0   0   0   0   0   0   0]\n",
      " [  2 260  17   2  10   0   0   4   5  16   3  10]\n",
      " [  1  15 221   1   1   0   0   1   1   1   1   4]\n",
      " [  0   6   0 108   0   0   0   0   0   0   0   1]\n",
      " [  0   5   1   0 308   0   0   0   1   4   0   0]\n",
      " [  0   2   1   0   0  24   0   0   2   0   0   0]\n",
      " [  0   2   0   0   0   0  75   1   3   3   0   1]\n",
      " [  0   3   1   0   1   0   2 152  26   9   0   1]\n",
      " [  0   9   3   0   1   0   7  28 208   7   1   1]\n",
      " [  0  17   6   1   1   0   7   5  22 265   0   1]\n",
      " [  0   6   0   0   0   0   0   0   0   0  78  17]\n",
      " [  0  19   4   0   1   0   0   0   0   3  12 123]]\n",
      "-----------------------------------------------------------------------------------\n",
      "Classification Report\n",
      "              precision    recall  f1-score   support\n",
      "\n",
      "    85389000       0.97      1.00      0.98        97\n",
      "    85177090       0.76      0.79      0.77       329\n",
      "    85369090       0.87      0.89      0.88       247\n",
      "    39269099       0.96      0.94      0.95       115\n",
      "    73181500       0.95      0.97      0.96       319\n",
      "    85366990       1.00      0.83      0.91        29\n",
      "    85364900       0.82      0.88      0.85        85\n",
      "    85238090       0.80      0.78      0.79       195\n",
      "    87089900       0.78      0.78      0.78       265\n",
      "    33041000       0.86      0.82      0.84       325\n",
      "    87082900       0.82      0.77      0.80       101\n",
      "    84713010       0.77      0.76      0.77       162\n",
      "\n",
      "    accuracy                           0.85      2269\n",
      "   macro avg       0.86      0.85      0.86      2269\n",
      "weighted avg       0.85      0.85      0.85      2269\n",
      "\n"
     ]
    }
   ],
   "source": [
    "# Using Random Forest Clasifier for text classification\n",
    "\n",
    "from sklearn.ensemble import RandomForestClassifier\n",
    "model_rf_classifier = Pipeline([('vect', TfidfVectorizer()),\n",
    "                                ('clf', RandomForestClassifier()) ])\n",
    "model_rf_classifier.fit(X_train, y_train)\n",
    "\n",
    "y_pred = model_rf_classifier.predict(X_test)\n",
    "\n",
    "print('The accuracy of Random Forest Classifier model is :  %s' % accuracy_score(y_pred, y_test))\n",
    "print(\"------------------------------------------------------------------------------------\")\n",
    "\n",
    "print(\"Confusion Matrix\")\n",
    "print(confusion_matrix(y_test,y_pred))\n",
    "print( \"-----------------------------------------------------------------------------------\")\n",
    "print(\"Classification Report\")\n",
    "print(classification_report(y_test, y_pred,target_names=labels))"
   ]
  },
  {
   "cell_type": "markdown",
   "id": "552cd679-4728-42f4-a077-a80cabdf73ee",
   "metadata": {},
   "source": [
    "# Balancing the data\n",
    "#### - Previously we have build classifier model using imbalanced data .\n",
    "#### - Now we try to balance the data and build classiifer models and see the accuracy differences."
   ]
  },
  {
   "cell_type": "markdown",
   "id": "84382e73-0816-4a68-96c5-517c65dc00c8",
   "metadata": {},
   "source": [
    "## Looking at training and testing target statics"
   ]
  },
  {
   "cell_type": "code",
   "execution_count": 22,
   "id": "6cde1ad9-aca7-49a9-bc90-ac4e9cfaf4ae",
   "metadata": {},
   "outputs": [
    {
     "name": "stdout",
     "output_type": "stream",
     "text": [
      "Training target statistics: Counter({39269099: 1292, 85177090: 1291, 85389000: 1225, 73181500: 1024, 85369090: 997, 85366990: 837, 87089900: 632, 33041000: 450, 84713010: 447, 87082900: 446, 85364900: 370, 85238090: 64})\n",
      "Testing target statistics: Counter({39269099: 329, 85389000: 325, 85177090: 319, 85369090: 265, 73181500: 247, 85366990: 195, 87089900: 162, 84713010: 115, 87082900: 101, 33041000: 97, 85364900: 85, 85238090: 29})\n"
     ]
    }
   ],
   "source": [
    "from collections import Counter\n",
    "print(f\"Training target statistics: {Counter(y_train)}\")\n",
    "print(f\"Testing target statistics: {Counter(y_test)}\")"
   ]
  },
  {
   "cell_type": "markdown",
   "id": "c3836a79-e49a-4ff6-b912-0996be3a2257",
   "metadata": {},
   "source": [
    "## Oversampling the smallest class"
   ]
  },
  {
   "cell_type": "code",
   "execution_count": 23,
   "id": "b933bba5-2b2c-4871-92a5-a3cce3a677ab",
   "metadata": {},
   "outputs": [],
   "source": [
    "from imblearn.over_sampling import RandomOverSampler\n",
    "over_sampler = RandomOverSampler(random_state=42)"
   ]
  },
  {
   "cell_type": "code",
   "execution_count": 24,
   "id": "1a1cfe00-974f-4ba7-ae47-f41a32f58619",
   "metadata": {},
   "outputs": [
    {
     "data": {
      "text/plain": [
       "14517                      raxbal contactor industrial use\n",
       "21834                     frzbbracket spares manufacturing\n",
       "5944                pnvwaac logic extended card pf mfg ups\n",
       "5116     non lte card agaa sr noypd ssyflccongi enh par...\n",
       "8520                      pu cover xiaomi redmi note brown\n",
       "                               ...                        \n",
       "23454    notebook computerassybaseiurmn nopgbis norkpwf...\n",
       "8915                    pph sheet colour white size mm pcs\n",
       "9181                                   kickstand case ipad\n",
       "1415                                raba connecting module\n",
       "12068                   swivel eyebolt ring x cd art c pcs\n",
       "Name: text, Length: 9075, dtype: object"
      ]
     },
     "execution_count": 24,
     "metadata": {},
     "output_type": "execute_result"
    }
   ],
   "source": [
    "X_train.shape\n",
    "X_train"
   ]
  },
  {
   "cell_type": "code",
   "execution_count": 25,
   "id": "91c7963b-199f-485f-9c3c-dc89df3ff8e2",
   "metadata": {},
   "outputs": [],
   "source": [
    "X_train = X_train.values.reshape(-1,1)"
   ]
  },
  {
   "cell_type": "code",
   "execution_count": 26,
   "id": "5548465e-d46f-48b1-8005-caf21add0090",
   "metadata": {},
   "outputs": [
    {
     "data": {
      "text/plain": [
       "(9075, 1)"
      ]
     },
     "execution_count": 26,
     "metadata": {},
     "output_type": "execute_result"
    }
   ],
   "source": [
    "X_train.shape"
   ]
  },
  {
   "cell_type": "code",
   "execution_count": 27,
   "id": "79bd3490-d9a1-48be-98a6-67ed4459edbe",
   "metadata": {},
   "outputs": [
    {
     "data": {
      "text/plain": [
       "array([['raxbal contactor industrial use'],\n",
       "       ['frzbbracket spares manufacturing'],\n",
       "       ['pnvwaac logic extended card pf mfg ups'],\n",
       "       ...,\n",
       "       ['kickstand case ipad'],\n",
       "       ['raba connecting module'],\n",
       "       ['swivel eyebolt ring x cd art c pcs']], dtype=object)"
      ]
     },
     "execution_count": 27,
     "metadata": {},
     "output_type": "execute_result"
    }
   ],
   "source": [
    "X_train"
   ]
  },
  {
   "cell_type": "code",
   "execution_count": 28,
   "id": "47235f04-f2ff-4eda-8a7a-dacb5b6827d0",
   "metadata": {},
   "outputs": [
    {
     "name": "stdout",
     "output_type": "stream",
     "text": [
      "Training target statistics: Counter({85364900: 1292, 87082900: 1292, 85369090: 1292, 85177090: 1292, 39269099: 1292, 85389000: 1292, 87089900: 1292, 73181500: 1292, 85366990: 1292, 84713010: 1292, 33041000: 1292, 85238090: 1292})\n",
      "Testing target statistics: Counter({39269099: 329, 85389000: 325, 85177090: 319, 85369090: 265, 73181500: 247, 85366990: 195, 87089900: 162, 84713010: 115, 87082900: 101, 33041000: 97, 85364900: 85, 85238090: 29})\n"
     ]
    }
   ],
   "source": [
    "X_train_balanced, y_train_balanced = over_sampler.fit_resample(X_train, y_train)\n",
    "print(f\"Training target statistics: {Counter(y_train_balanced)}\")\n",
    "print(f\"Testing target statistics: {Counter(y_test)}\")"
   ]
  },
  {
   "cell_type": "code",
   "execution_count": 29,
   "id": "a80e49d7-4f6d-4ddc-b978-39b8f7cfb16a",
   "metadata": {},
   "outputs": [],
   "source": [
    "# from imblearn.over_sampling import SMOTE\n",
    "# over_sampler = SMOTE(k_neighbors=2)\n",
    "# print(f\"Training target statistics: {Counter(y_res)}\")\n",
    "# print(f\"Testing target statistics: {Counter(y_test)}\")"
   ]
  },
  {
   "cell_type": "code",
   "execution_count": 30,
   "id": "3ed12f63-bb25-48a2-b0b0-f2909701fd43",
   "metadata": {},
   "outputs": [
    {
     "data": {
      "text/plain": [
       "0                      raxbal contactor industrial use\n",
       "1                     frzbbracket spares manufacturing\n",
       "2               pnvwaac logic extended card pf mfg ups\n",
       "3    non lte card agaa sr noypd ssyflccongi enh par...\n",
       "4                     pu cover xiaomi redmi note brown\n",
       "dtype: object"
      ]
     },
     "execution_count": 30,
     "metadata": {},
     "output_type": "execute_result"
    }
   ],
   "source": [
    "X_train_balanced_s  = pd.Series(X_train_balanced.reshape(-1))\n",
    "X_train_balanced_s.head()\n",
    "# y_train_balanced"
   ]
  },
  {
   "cell_type": "markdown",
   "id": "9de7d628-1f18-4d8f-8314-3ce9027d776e",
   "metadata": {},
   "source": [
    "## Using multinominal naive bayes classifier for balanced data"
   ]
  },
  {
   "cell_type": "code",
   "execution_count": 31,
   "id": "21a93fe5-9dc7-4f7e-8f14-96b882a3243c",
   "metadata": {},
   "outputs": [
    {
     "name": "stdout",
     "output_type": "stream",
     "text": [
      "The accuracy of Naive Bayes model is :  0.8016747465843984\n",
      "-----------------------------------------------------------------------------\n",
      "Confusion Matrix\n",
      "[[ 97   0   0   0   0   0   0   0   0   0   0   0]\n",
      " [  1 233  15   3  17   2   0   4  10   9  27   8]\n",
      " [  5  10 208   1   3   1   0   1   3   0   2  13]\n",
      " [  0   2   0 113   0   0   0   0   0   0   0   0]\n",
      " [  0   5   3   0 305   0   0   1   1   3   0   1]\n",
      " [  0   1   0   0   0  26   0   0   0   1   0   1]\n",
      " [  0   0   0   0   0   0  79   1   0   2   1   2]\n",
      " [  2   2   0   0   0   1   7 152  25   6   0   0]\n",
      " [  1   3   3   1   1   0  29  52 164   6   4   1]\n",
      " [  2   9   9   1   4   2   7  16  22 240   2  11]\n",
      " [  2   2   1   0   0   0   0   0   0   0  85  11]\n",
      " [  1   2   8   0   0   2   0   0   0   0  32 117]]\n",
      "------------------------------------------------------------------------------\n",
      "Classification report\n",
      "              precision    recall  f1-score   support\n",
      "\n",
      "    85389000       0.87      1.00      0.93        97\n",
      "    85177090       0.87      0.71      0.78       329\n",
      "    85369090       0.84      0.84      0.84       247\n",
      "    39269099       0.95      0.98      0.97       115\n",
      "    73181500       0.92      0.96      0.94       319\n",
      "    85366990       0.76      0.90      0.83        29\n",
      "    85364900       0.65      0.93      0.76        85\n",
      "    85238090       0.67      0.78      0.72       195\n",
      "    87089900       0.73      0.62      0.67       265\n",
      "    33041000       0.90      0.74      0.81       325\n",
      "    87082900       0.56      0.84      0.67       101\n",
      "    84713010       0.71      0.72      0.72       162\n",
      "\n",
      "    accuracy                           0.80      2269\n",
      "   macro avg       0.79      0.83      0.80      2269\n",
      "weighted avg       0.81      0.80      0.80      2269\n",
      "\n"
     ]
    }
   ],
   "source": [
    "# Using multinominal naive bayes for text classification\n",
    "\n",
    "from sklearn.feature_extraction.text import TfidfVectorizer\n",
    "from sklearn.naive_bayes import MultinomialNB\n",
    "from sklearn.pipeline import Pipeline\n",
    "from sklearn.metrics import accuracy_score, confusion_matrix, classification_report\n",
    "\n",
    "model_naive_bayes_balanced = Pipeline([('vect',TfidfVectorizer()),\n",
    "                             ('clf', MultinomialNB()) ])\n",
    "                  \n",
    "\n",
    "model_naive_bayes_balanced.fit(X_train_balanced_s, y_train_balanced)\n",
    "y_pred = model_naive_bayes_balanced.predict(X_test)\n",
    "\n",
    "print('The accuracy of Naive Bayes model is :  %s' % accuracy_score(y_pred, y_test))\n",
    "print (\"-----------------------------------------------------------------------------\")\n",
    "\n",
    "print(\"Confusion Matrix\")\n",
    "print(confusion_matrix(y_test,y_pred))\n",
    "\n",
    "print (\"------------------------------------------------------------------------------\")\n",
    "print(\"Classification report\")\n",
    "print(classification_report(y_test, y_pred,target_names=labels))"
   ]
  },
  {
   "cell_type": "markdown",
   "id": "17afdcc4-b07f-486d-9e17-e49f84221de5",
   "metadata": {},
   "source": [
    "## Using random forest classifer for balanced data"
   ]
  },
  {
   "cell_type": "code",
   "execution_count": 32,
   "id": "779ce6a5-321c-4278-ad34-8e7c5748af9b",
   "metadata": {},
   "outputs": [
    {
     "name": "stdout",
     "output_type": "stream",
     "text": [
      "The accuracy of Random Forest Classifier model is :  0.8386954605553107\n",
      "------------------------------------------------------------------------------------\n",
      "Confusion Matrix\n",
      "[[ 97   0   0   0   0   0   0   0   0   0   0   0]\n",
      " [  2 253  16   2  11   0   0   5   6  13   7  14]\n",
      " [  1  13 223   1   0   0   0   1   1   1   2   4]\n",
      " [  0   7   0 108   0   0   0   0   0   0   0   0]\n",
      " [  0   4   2   0 306   0   1   0   1   4   1   0]\n",
      " [  0   3   0   0   0  24   0   1   1   0   0   0]\n",
      " [  0   0   0   0   0   0  75   3   3   3   0   1]\n",
      " [  0   4   1   0   1   0   2 157  22   7   0   1]\n",
      " [  0   7   4   0   2   0  20  26 200   5   1   0]\n",
      " [  0  20   5   0   1   0   7   6  23 258   0   5]\n",
      " [  0   6   0   0   0   0   0   1   0   0  79  15]\n",
      " [  0  16   5   0   1   0   0   0   0   4  13 123]]\n",
      "-----------------------------------------------------------------------------------\n",
      "Classification Report\n",
      "              precision    recall  f1-score   support\n",
      "\n",
      "    85389000       0.97      1.00      0.98        97\n",
      "    85177090       0.76      0.77      0.76       329\n",
      "    85369090       0.87      0.90      0.89       247\n",
      "    39269099       0.97      0.94      0.96       115\n",
      "    73181500       0.95      0.96      0.95       319\n",
      "    85366990       1.00      0.83      0.91        29\n",
      "    85364900       0.71      0.88      0.79        85\n",
      "    85238090       0.79      0.81      0.79       195\n",
      "    87089900       0.78      0.75      0.77       265\n",
      "    33041000       0.87      0.79      0.83       325\n",
      "    87082900       0.77      0.78      0.77       101\n",
      "    84713010       0.75      0.76      0.76       162\n",
      "\n",
      "    accuracy                           0.84      2269\n",
      "   macro avg       0.85      0.85      0.85      2269\n",
      "weighted avg       0.84      0.84      0.84      2269\n",
      "\n"
     ]
    }
   ],
   "source": [
    "# Using Random Forest Clasifier for text classification\n",
    "\n",
    "from sklearn.ensemble import RandomForestClassifier\n",
    "model_rf_classifier_balanced = Pipeline([('vect', TfidfVectorizer()),\n",
    "                                ('clf', RandomForestClassifier()) ])\n",
    "model_rf_classifier_balanced.fit(X_train_balanced_s, y_train_balanced)\n",
    "\n",
    "y_pred = model_rf_classifier_balanced.predict(X_test)\n",
    "\n",
    "print('The accuracy of Random Forest Classifier model is :  %s' % accuracy_score(y_pred, y_test))\n",
    "print(\"------------------------------------------------------------------------------------\")\n",
    "\n",
    "print(\"Confusion Matrix\")\n",
    "print(confusion_matrix(y_test,y_pred))\n",
    "print( \"-----------------------------------------------------------------------------------\")\n",
    "print(\"Classification Report\")\n",
    "print(classification_report(y_test, y_pred,target_names=labels))"
   ]
  },
  {
   "cell_type": "markdown",
   "id": "99b45b7c-fd1a-44e9-9cdf-d1e6f9c3aa92",
   "metadata": {},
   "source": [
    "# Comparision on different models \n",
    "\n",
    "## Accuracy on Imbalanced data :\n",
    "   #### - Multinominal Naive bayes classifier (model_naive_bayes) : 0.7977\n",
    "   #### - Random Forest Classifer (model_rf_classifier) : 0.8422\n",
    "\n",
    "## Accuracy on Balanced data :\n",
    "   #### - Multinominal Naive bayes classifier (model_naive_bayes_balanced) : 0.8016\n",
    "   #### - Random Forest Classifer (model_rf_classifier_balanced) : 0.8373\n",
    "   \n",
    "# Result : \n",
    "#### There is no significant difference in accuracy"
   ]
  },
  {
   "cell_type": "markdown",
   "id": "aeb5e62d-3ce1-44a3-ba6c-280f8a7afbc8",
   "metadata": {},
   "source": [
    "# Now checking the classifier model in \"test_set.csv\" "
   ]
  },
  {
   "cell_type": "code",
   "execution_count": 33,
   "id": "810603ee-4a68-4ccb-ac6c-28305f4ba606",
   "metadata": {},
   "outputs": [],
   "source": [
    "df_test = pd.read_csv(\"test_set.csv\", encoding = 'unicode_escape') "
   ]
  },
  {
   "cell_type": "code",
   "execution_count": 34,
   "id": "16569290-04dc-479c-ba05-99bb12a6a735",
   "metadata": {},
   "outputs": [
    {
     "data": {
      "text/html": [
       "<div>\n",
       "<style scoped>\n",
       "    .dataframe tbody tr th:only-of-type {\n",
       "        vertical-align: middle;\n",
       "    }\n",
       "\n",
       "    .dataframe tbody tr th {\n",
       "        vertical-align: top;\n",
       "    }\n",
       "\n",
       "    .dataframe thead th {\n",
       "        text-align: right;\n",
       "    }\n",
       "</style>\n",
       "<table border=\"1\" class=\"dataframe\">\n",
       "  <thead>\n",
       "    <tr style=\"text-align: right;\">\n",
       "      <th></th>\n",
       "      <th>text</th>\n",
       "    </tr>\n",
       "  </thead>\n",
       "  <tbody>\n",
       "    <tr>\n",
       "      <th>0</th>\n",
       "      <td>lv tmd pd trip unit for nh parts of circuit br...</td>\n",
       "    </tr>\n",
       "    <tr>\n",
       "      <th>1</th>\n",
       "      <td>module tm analog outputs analog output expansi...</td>\n",
       "    </tr>\n",
       "    <tr>\n",
       "      <th>2</th>\n",
       "      <td>command group t iii mechanismt p parts forcir...</td>\n",
       "    </tr>\n",
       "    <tr>\n",
       "      <th>3</th>\n",
       "      <td>parts of relayelectrical contact  issu e f xxup</td>\n",
       "    </tr>\n",
       "    <tr>\n",
       "      <th>4</th>\n",
       "      <td>parts for programmable logic controllers  dm  ...</td>\n",
       "    </tr>\n",
       "  </tbody>\n",
       "</table>\n",
       "</div>"
      ],
      "text/plain": [
       "                                                text\n",
       "0  lv tmd pd trip unit for nh parts of circuit br...\n",
       "1  module tm analog outputs analog output expansi...\n",
       "2   command group t iii mechanismt p parts forcir...\n",
       "3    parts of relayelectrical contact  issu e f xxup\n",
       "4  parts for programmable logic controllers  dm  ..."
      ]
     },
     "execution_count": 34,
     "metadata": {},
     "output_type": "execute_result"
    }
   ],
   "source": [
    "df_test.head()"
   ]
  },
  {
   "cell_type": "code",
   "execution_count": 35,
   "id": "a9ebac8f-0db3-44e2-98f6-f3a2c2aed250",
   "metadata": {},
   "outputs": [
    {
     "data": {
      "text/plain": [
       "5894"
      ]
     },
     "execution_count": 35,
     "metadata": {},
     "output_type": "execute_result"
    }
   ],
   "source": [
    "len(df_test)"
   ]
  },
  {
   "cell_type": "markdown",
   "id": "7d430fc8-08c5-43f9-8826-4d5cdd76e4f9",
   "metadata": {},
   "source": [
    "## Data preprocessing "
   ]
  },
  {
   "cell_type": "code",
   "execution_count": 36,
   "id": "c3c029c5-271e-4aad-9985-54a00f1d05bf",
   "metadata": {},
   "outputs": [
    {
     "data": {
      "text/plain": [
       "0       False\n",
       "1       False\n",
       "2       False\n",
       "3       False\n",
       "4       False\n",
       "        ...  \n",
       "5889    False\n",
       "5890    False\n",
       "5891    False\n",
       "5892    False\n",
       "5893    False\n",
       "Length: 5894, dtype: bool"
      ]
     },
     "execution_count": 36,
     "metadata": {},
     "output_type": "execute_result"
    }
   ],
   "source": [
    "# Checking for the null values if present \n",
    "null_values = df_test.isnull().any(axis=1)\n",
    "null_values"
   ]
  },
  {
   "cell_type": "code",
   "execution_count": 37,
   "id": "88cc284b-885e-4695-83d6-e3b801e43272",
   "metadata": {},
   "outputs": [
    {
     "data": {
      "text/html": [
       "<div>\n",
       "<style scoped>\n",
       "    .dataframe tbody tr th:only-of-type {\n",
       "        vertical-align: middle;\n",
       "    }\n",
       "\n",
       "    .dataframe tbody tr th {\n",
       "        vertical-align: top;\n",
       "    }\n",
       "\n",
       "    .dataframe thead th {\n",
       "        text-align: right;\n",
       "    }\n",
       "</style>\n",
       "<table border=\"1\" class=\"dataframe\">\n",
       "  <thead>\n",
       "    <tr style=\"text-align: right;\">\n",
       "      <th></th>\n",
       "      <th>text</th>\n",
       "    </tr>\n",
       "  </thead>\n",
       "  <tbody>\n",
       "  </tbody>\n",
       "</table>\n",
       "</div>"
      ],
      "text/plain": [
       "Empty DataFrame\n",
       "Columns: [text]\n",
       "Index: []"
      ]
     },
     "execution_count": 37,
     "metadata": {},
     "output_type": "execute_result"
    }
   ],
   "source": [
    "df_test[null_values]"
   ]
  },
  {
   "cell_type": "markdown",
   "id": "d84f4cb4-07c7-41bb-8cf9-41ec81a68573",
   "metadata": {},
   "source": [
    "#### There is no present of null values "
   ]
  },
  {
   "cell_type": "markdown",
   "id": "d441a9e7-6514-438d-b723-376757ffcf86",
   "metadata": {},
   "source": [
    "### Checking for duplicate rows"
   ]
  },
  {
   "cell_type": "code",
   "execution_count": 38,
   "id": "84dd4134-e7da-4a4c-9843-f698c32f4fee",
   "metadata": {},
   "outputs": [],
   "source": [
    "duplicateRows_test = df_test[df_test.duplicated()]"
   ]
  },
  {
   "cell_type": "code",
   "execution_count": 39,
   "id": "4122f206-56fa-4641-b859-482cc020a4b5",
   "metadata": {},
   "outputs": [
    {
     "data": {
      "text/plain": [
       "2045"
      ]
     },
     "execution_count": 39,
     "metadata": {},
     "output_type": "execute_result"
    }
   ],
   "source": [
    "len(duplicateRows_test)"
   ]
  },
  {
   "cell_type": "markdown",
   "id": "84a7998d-855b-4787-a31b-bb140c12a0b6",
   "metadata": {},
   "source": [
    "#### Removing duplicate rows"
   ]
  },
  {
   "cell_type": "code",
   "execution_count": 40,
   "id": "76355826-180f-44ab-8e85-e1e1b8ab0107",
   "metadata": {},
   "outputs": [],
   "source": [
    "new_df_test = df_test.drop_duplicates()"
   ]
  },
  {
   "cell_type": "code",
   "execution_count": 41,
   "id": "0300b3df-5d69-49f7-992f-82a75152eb44",
   "metadata": {},
   "outputs": [
    {
     "data": {
      "text/plain": [
       "3849"
      ]
     },
     "execution_count": 41,
     "metadata": {},
     "output_type": "execute_result"
    }
   ],
   "source": [
    "len(new_df_test)"
   ]
  },
  {
   "cell_type": "markdown",
   "id": "ba622312-664f-442a-9ebf-f188e1d5544c",
   "metadata": {},
   "source": [
    "####  Removing stopwords, unwanted spacing , uppercase letter ,special symbols if any present"
   ]
  },
  {
   "cell_type": "code",
   "execution_count": 42,
   "id": "287d35d1-d60a-47fd-af21-24b4060529f3",
   "metadata": {},
   "outputs": [
    {
     "name": "stdout",
     "output_type": "stream",
     "text": [
      "Total number of words in data before preprocessing : 37741\n",
      "Total number of words in data after preprocessing : 28591\n"
     ]
    },
    {
     "name": "stderr",
     "output_type": "stream",
     "text": [
      "/tmp/ipykernel_47883/3174640760.py:2: SettingWithCopyWarning: \n",
      "A value is trying to be set on a copy of a slice from a DataFrame.\n",
      "Try using .loc[row_indexer,col_indexer] = value instead\n",
      "\n",
      "See the caveats in the documentation: https://pandas.pydata.org/pandas-docs/stable/user_guide/indexing.html#returning-a-view-versus-a-copy\n",
      "  new_df_test['text'] = new_df_test['text'].apply(clean_text)\n"
     ]
    }
   ],
   "source": [
    "print(\"Total number of words in data before preprocessing :\", new_df_test['text'].apply(lambda x: len(x.split(' '))).sum())\n",
    "new_df_test['text'] = new_df_test['text'].apply(clean_text)\n",
    "print (\"Total number of words in data after preprocessing :\", new_df_test['text'].apply(lambda x: len(x.split(' '))).sum())"
   ]
  },
  {
   "cell_type": "markdown",
   "id": "21fd8e45-8403-47ee-b3c0-6232e3324b18",
   "metadata": {},
   "source": [
    "## Now predicting the text"
   ]
  },
  {
   "cell_type": "code",
   "execution_count": 43,
   "id": "45a00d40-4eb3-470c-bded-dcae8d020daf",
   "metadata": {},
   "outputs": [],
   "source": [
    "y_prediction = model_rf_classifier.predict(new_df_test.text) # Using random forest classifier for prediction"
   ]
  },
  {
   "cell_type": "code",
   "execution_count": 44,
   "id": "1ff7eaf0-5ea9-4524-a5b5-2969365a6de2",
   "metadata": {},
   "outputs": [],
   "source": [
    "result  = pd.DataFrame(y_prediction, columns=['Output_Label'])"
   ]
  },
  {
   "cell_type": "code",
   "execution_count": 45,
   "id": "9d043b67-46e6-40c3-b5db-7760c700dd20",
   "metadata": {},
   "outputs": [],
   "source": [
    "# Writing the result into \"result.csv\" \n",
    "result.to_csv(\"result.csv\", index=False) "
   ]
  },
  {
   "cell_type": "code",
   "execution_count": null,
   "id": "f0aa684c-8727-4661-b759-8c802f010538",
   "metadata": {},
   "outputs": [],
   "source": []
  },
  {
   "cell_type": "code",
   "execution_count": null,
   "id": "b009a23d-1eb3-44d8-b1ab-12b38877c311",
   "metadata": {},
   "outputs": [],
   "source": []
  }
 ],
 "metadata": {
  "kernelspec": {
   "display_name": "Python 3",
   "language": "python",
   "name": "python3"
  },
  "language_info": {
   "codemirror_mode": {
    "name": "ipython",
    "version": 3
   },
   "file_extension": ".py",
   "mimetype": "text/x-python",
   "name": "python",
   "nbconvert_exporter": "python",
   "pygments_lexer": "ipython3",
   "version": "3.8.11"
  }
 },
 "nbformat": 4,
 "nbformat_minor": 5
}
