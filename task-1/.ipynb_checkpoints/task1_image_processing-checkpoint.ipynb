{
 "cells": [
  {
   "cell_type": "markdown",
   "id": "7adbb6e1-0f1f-4a2a-a98a-b4b813ad3055",
   "metadata": {},
   "source": [
    "## Importing modules"
   ]
  },
  {
   "cell_type": "code",
   "execution_count": null,
   "id": "a6b6bed1-4f90-46b2-a08c-25440202efbb",
   "metadata": {},
   "outputs": [],
   "source": [
    "import os\n",
    "import cv2\n",
    "import numpy as np"
   ]
  },
  {
   "cell_type": "markdown",
   "id": "01020927-9451-4550-b8a7-788fb43123e6",
   "metadata": {},
   "source": [
    "## Looking at the dataset"
   ]
  },
  {
   "cell_type": "code",
   "execution_count": null,
   "id": "e193e60b-a70e-43a7-b840-12b20e53c6d5",
   "metadata": {},
   "outputs": [],
   "source": [
    "path_to_image = \"./misaligned_images/\"\n",
    "images = os.listdir(path_to_image)\n",
    "images"
   ]
  },
  {
   "cell_type": "code",
   "execution_count": null,
   "id": "1595d6b0-d823-4892-96cf-ce0946061755",
   "metadata": {},
   "outputs": [],
   "source": [
    "len(images) # checking  for number of images in the list"
   ]
  },
  {
   "cell_type": "markdown",
   "id": "77ce5241-552e-4a1e-b8fe-e1477a970b61",
   "metadata": {},
   "source": [
    "## Looking at the single image sample"
   ]
  },
  {
   "cell_type": "code",
   "execution_count": null,
   "id": "3a0ca9c5-508b-447d-a54f-eb78176f5cfc",
   "metadata": {},
   "outputs": [],
   "source": [
    "# Looking at the single image sample \n",
    "import matplotlib.pyplot as plt\n",
    "\n",
    "image_1 = \"./misaligned_images/41.png\"\n",
    "show_image_1 = cv2.imread(image_1)\n",
    "fig = plt.figure(figsize=(10,10))\n",
    "plt.imshow(show_image_1)"
   ]
  },
  {
   "cell_type": "markdown",
   "id": "5a644203-a144-42b5-b0c3-05f54e95a1fc",
   "metadata": {},
   "source": [
    "## Correcting alignment in single image"
   ]
  },
  {
   "cell_type": "code",
   "execution_count": null,
   "id": "0ed6697c-0e8c-455e-867f-cd91569d6fcf",
   "metadata": {},
   "outputs": [],
   "source": [
    "from PIL import Image\n",
    "\n",
    "img = cv2.imread(image_1)\n",
    "# print(img.dtype)\n",
    "image = Image.fromarray(img)\n",
    "# print (image.dtype)\n",
    "fig = plt.figure(figsize=(10,10))\n",
    "plt.imshow(image)"
   ]
  },
  {
   "cell_type": "markdown",
   "id": "77413aa8-01d2-43b3-a891-fce62c5a16fb",
   "metadata": {},
   "source": [
    "\n",
    "## The image provided was slightly skewned\n",
    " \n",
    "### Here are several techniques that are used to skew correction :\n",
    "#### -Projection profile method\n",
    "#### -Hough transform\n",
    "#### -Topline method\n",
    "#### -Scanline method\n",
    "\n",
    "##### (Projection profile method is the simplest and easiest way to determine skew in documents in the range ±5°. Lets take a part of scanned image and see how to correct skew.)\n",
    "\n",
    "### Steps involved in Projection Profile method :\n",
    " #### 1. Binarize the image.\n",
    " #### 2. Project the image vertically to get a histogram of pixels.\n",
    " #### 3. Image is rotated at various angles and above process is repeated.  \n",
    " #### 4. Maximum diffrence between peaks, that will be the best angle.\n"
   ]
  },
  {
   "cell_type": "markdown",
   "id": "11868c17-cdf2-4031-9680-d43a3c91d626",
   "metadata": {},
   "source": [
    "## Trying projection profile method for single image"
   ]
  },
  {
   "cell_type": "code",
   "execution_count": null,
   "id": "aea585ba-dd3f-4b85-9c7e-961b4ede067e",
   "metadata": {},
   "outputs": [],
   "source": [
    "# Binarize the image \n",
    "wd, ht = image.size\n",
    "pix = np.array(image.convert('1').getdata(),np.uint8) # creates an array\n",
    "print(pix)\n",
    "print (pix.shape)\n",
    "\n",
    "print (\"--------------------------------------------\")\n",
    "\n",
    "bin_img = 1 - (pix.reshape((ht, wd)) / 255.0)\n",
    "print (bin_img)\n",
    "print ( bin_img.shape )\n",
    "fig = plt.figure(figsize=(10,10))\n",
    "plt.imshow(bin_img, cmap='gray')\n"
   ]
  },
  {
   "cell_type": "code",
   "execution_count": null,
   "id": "cefacb77-0c05-4312-b2c0-d914dcd6c40f",
   "metadata": {},
   "outputs": [],
   "source": [
    "from scipy.ndimage import interpolation\n",
    "\n",
    "def find_score(img, angle):\n",
    "    data = interpolation.rotate(img,angle,reshape=False,order=0)\n",
    "    hist = np.sum(data, axis=1)\n",
    "    score = np.sum((hist[1:] - hist[:-1]) ** 2)\n",
    "    return hist, score"
   ]
  },
  {
   "cell_type": "code",
   "execution_count": null,
   "id": "f604791f-47b7-48c6-baeb-3437392d2988",
   "metadata": {},
   "outputs": [],
   "source": [
    "delta = 1\n",
    "limit = 5\n",
    "angles = np.arange(-limit, limit+delta, delta)\n",
    "# print(angles)\n",
    "\n",
    "scores = []\n",
    "for angle in angles:\n",
    "    hist, score = find_score(bin_img, angle)\n",
    "    scores.append(score)\n",
    "print(\"Angle list : \",angles)\n",
    "print (\"Score list:\",scores)"
   ]
  },
  {
   "cell_type": "code",
   "execution_count": null,
   "id": "f49755bc-0a62-4af0-924c-10868c2fd787",
   "metadata": {},
   "outputs": [],
   "source": [
    "best_score = max(scores)\n",
    "print(best_score)\n",
    "best_angle = angles[scores.index(best_score)]\n",
    "print(best_angle)"
   ]
  },
  {
   "cell_type": "code",
   "execution_count": null,
   "id": "d5c01708-e809-4b75-9fdb-f188ed47ecd5",
   "metadata": {},
   "outputs": [],
   "source": [
    "# correcting the  skewness\n",
    "data = interpolation.rotate(bin_img, best_angle, reshape=False, order=0)\n",
    "aligned_image= Image.fromarray((255 * data).astype(\"uint8\")).convert(\"RGB\")\n",
    "fig = plt.figure(figsize=(10,10))\n",
    "plt.imshow(aligned_image)\n",
    "# image.save('skew_corrected_image.png')"
   ]
  },
  {
   "cell_type": "markdown",
   "id": "017376af-eabc-4330-a386-baeec6c733c9",
   "metadata": {},
   "source": [
    "## Applying Projection Profile method in all images"
   ]
  },
  {
   "cell_type": "code",
   "execution_count": null,
   "id": "7371d1ff-6b9c-4cc7-b636-587ca5fa6448",
   "metadata": {},
   "outputs": [],
   "source": [
    "images #Looking at the list of images"
   ]
  },
  {
   "cell_type": "markdown",
   "id": "536be3cc-977d-42ff-be50-860a64235680",
   "metadata": {},
   "source": [
    "## Finding the difference score \n",
    "#### Whenever we find maximum diffrence between peaks, that will be the best angle."
   ]
  },
  {
   "cell_type": "code",
   "execution_count": null,
   "id": "d047e7b1-b2c8-4ae0-b49a-f3296b013efc",
   "metadata": {},
   "outputs": [],
   "source": [
    "def find_difference_score(img, angle):\n",
    "    data = interpolation.rotate(img, angle, reshape=False, order=0)\n",
    "    hist = np.sum(data, axis=1)\n",
    "    difference_score = np.sum((hist[1:] - hist[:-1]) ** 2)\n",
    "    return difference_score"
   ]
  },
  {
   "cell_type": "markdown",
   "id": "ff13745c-ba24-43b1-95f5-733a9ef0b0ae",
   "metadata": {},
   "source": [
    "## Finding the skewed angle of image"
   ]
  },
  {
   "cell_type": "code",
   "execution_count": null,
   "id": "f8155d50-0f84-4c2b-b38c-faf99baf0298",
   "metadata": {},
   "outputs": [],
   "source": [
    "def find_skewed_angle(image):\n",
    "    \n",
    "    img = np.array(image)\n",
    "    gray_img = cv2.cvtColor(img, cv2.COLOR_BGR2GRAY)\n",
    "    thresh_img = cv2.threshold(gray_img, 0, 255, cv2.THRESH_BINARY_INV + cv2.THRESH_OTSU)[1] \n",
    "    \n",
    "    delta = 1\n",
    "    limit = 5\n",
    "    angles = np.arange(-limit, limit + delta, delta)\n",
    "    \n",
    "    scores = []\n",
    "    for angle in angles:\n",
    "        diff = find_difference_score(thresh_img, angle)\n",
    "        scores.append(diff)\n",
    "  \n",
    "    skew_angle = angles[scores.index(max(scores))]\n",
    "    return skew_angle "
   ]
  },
  {
   "cell_type": "markdown",
   "id": "df86a50f-c989-4749-844f-89410b6aca9b",
   "metadata": {},
   "source": [
    "## Rotating the image at the certain angle after finding skewness( i.e skewed angle)"
   ]
  },
  {
   "cell_type": "code",
   "execution_count": null,
   "id": "c157ed4e-6711-42e5-8cd6-29de9a7cfbdf",
   "metadata": {},
   "outputs": [],
   "source": [
    "# a method to rotate the image at the certain angle\n",
    "def rotate(image, angle):\n",
    "    (h, w) = image.shape[:2]\n",
    "    center = (w // 2,h // 2)\n",
    "    rotation_matrix = cv2.getRotationMatrix2D(center,angle,1.0)\n",
    "#     Rotation matrix is a transformation matrix that is used to perform a rotation in Euclidean space\n",
    "    rotated_image = cv2.warpAffine(image,rotation_matrix,(w, h),flags=cv2.INTER_CUBIC,borderMode=cv2.BORDER_REPLICATE)\n",
    "#     Affine transformation that preserves collinearity, parallelism as well as the ratio of distances between the points \n",
    "    return rotated_image\n"
   ]
  },
  {
   "cell_type": "markdown",
   "id": "44cabfe0-a328-4892-8762-d006b616339e",
   "metadata": {},
   "source": [
    "## Getting image orientation using pytesseract\n",
    "#### checking for a single image"
   ]
  },
  {
   "cell_type": "code",
   "execution_count": null,
   "id": "41db5bb5-e534-49fa-a13a-5774b2580d01",
   "metadata": {},
   "outputs": [],
   "source": [
    "import pytesseract\n",
    "random_image =  \"./misaligned_images/4.jpg\"\n",
    "img_orientation = pytesseract.image_to_osd(random_image,config='--psm 0 -c min_characters_to_try=5',lang='eng')\n",
    "orientation_degree  = float(img_orientation.split(\"\\n\")[1].split(\":\")[-1])\n",
    "print(img_orientation)\n",
    "print(orientation_degree)\n",
    "random_img = cv2.imread(random_image)\n",
    "fig = plt.figure(figsize=(10,10))\n",
    "plt.imshow(random_img)"
   ]
  },
  {
   "cell_type": "markdown",
   "id": "a8040a01-ef09-4b05-8e29-6fe5f7db736d",
   "metadata": {},
   "source": [
    "## Correcting alignment of all skewed images "
   ]
  },
  {
   "cell_type": "code",
   "execution_count": null,
   "id": "074c1f64-d397-4e5b-a8f3-c28547a5bc7e",
   "metadata": {},
   "outputs": [],
   "source": [
    "for i in images:\n",
    "    req_img = path_to_image  + i\n",
    "    print(req_img)\n",
    "    exact_img = cv2.imread(req_img)\n",
    "#     plt.imshow(exact_img, cmap='gray')   \n",
    "    \n",
    "    img_orientation = pytesseract.image_to_osd(exact_img,config='--psm 0 -c min_characters_to_try=5',lang='eng')\n",
    "    print(img_orientation)\n",
    "    degree_of_orientation  = float(img_orientation.split(\"\\n\")[1].split(\":\")[-1])\n",
    "    print(degree_of_orientation)\n",
    "    if degree_of_orientation>0.0:\n",
    "        exact_img = rotate(exact_img, degree_of_orientation)\n",
    "\n",
    "    skewed_angle = find_skewed_angle(exact_img)\n",
    "    rotated = rotate(exact_img.copy(),skewed_angle) \n",
    "    print(skewed_angle)\n",
    "    \n",
    "    fig = plt.figure(figsize=(10,10))\n",
    "    plt.imshow(rotated, cmap='gray')\n",
    "    result = \"./corrected_images/corrected_image_\" +  i\n",
    "    cv2.imwrite(result, rotated)\n",
    "    \n",
    "    print(\"-----------------------------------------------------------------\")"
   ]
  },
  {
   "cell_type": "markdown",
   "id": "cd8e0625-cfc1-4096-92b5-3987d4ad966e",
   "metadata": {},
   "source": [
    "## Using \"scipy.ndimage.interpolation.rotate\" method"
   ]
  },
  {
   "cell_type": "code",
   "execution_count": null,
   "id": "40ecd7ab-28b0-44c3-9858-5b42e6c3a9e0",
   "metadata": {},
   "outputs": [],
   "source": [
    "for i in images:\n",
    "    req_img = path_to_image  + i\n",
    "    print(req_img)\n",
    "    exact_img = cv2.imread(req_img)\n",
    "#     plt.imshow(exact_img, cmap='gray')   \n",
    "    \n",
    "    img_orientation = pytesseract.image_to_osd(exact_img,config='--psm 0 -c min_characters_to_try=5',lang='eng')\n",
    "    print(img_orientation)\n",
    "    degree_of_orientation  = float(img_orientation.split(\"\\n\")[1].split(\":\")[-1])\n",
    "    print(degree_of_orientation)\n",
    "    if degree_of_orientation>0.0:\n",
    "        exact_img = rotate(exact_img, degree_of_orientation)\n",
    "\n",
    "    skewed_angle = find_skewed_angle(exact_img)\n",
    "    rotated = interpolation.rotate(exact_img.copy(),skewed_angle) \n",
    "    print(skewed_angle)\n",
    "    \n",
    "    fig = plt.figure(figsize=(10,10))\n",
    "    plt.imshow(rotated, cmap='gray')\n",
    "    \n",
    "    result = \"./corrected_images_interpolate/corrected_image_\" +  i\n",
    "    cv2.imwrite(result, rotated)\n",
    "    \n",
    "    print(\"----------------------------------------\")"
   ]
  },
  {
   "cell_type": "markdown",
   "id": "f49dd32b-febb-4f1d-806a-6aa481c252ee",
   "metadata": {},
   "source": []
  },
  {
   "cell_type": "code",
   "execution_count": null,
   "id": "8fad2c43-4598-4e6f-93e4-ee2b87a191ff",
   "metadata": {},
   "outputs": [],
   "source": []
  },
  {
   "cell_type": "code",
   "execution_count": null,
   "id": "5c964662-464d-46c4-86ac-da6cccfa25d7",
   "metadata": {},
   "outputs": [],
   "source": []
  },
  {
   "cell_type": "code",
   "execution_count": null,
   "id": "03769763-16b3-4f02-ab68-773aa3983cea",
   "metadata": {},
   "outputs": [],
   "source": []
  },
  {
   "cell_type": "code",
   "execution_count": null,
   "id": "912b3357-7f8e-4059-90c3-dfb59c9014fe",
   "metadata": {},
   "outputs": [],
   "source": []
  }
 ],
 "metadata": {
  "kernelspec": {
   "display_name": "Python 3",
   "language": "python",
   "name": "python3"
  },
  "language_info": {
   "codemirror_mode": {
    "name": "ipython",
    "version": 3
   },
   "file_extension": ".py",
   "mimetype": "text/x-python",
   "name": "python",
   "nbconvert_exporter": "python",
   "pygments_lexer": "ipython3",
   "version": "3.8.11"
  }
 },
 "nbformat": 4,
 "nbformat_minor": 5
}
